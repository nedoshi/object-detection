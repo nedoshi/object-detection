{
 "cells": [
  {
   "cell_type": "markdown",
   "id": "991808d0-7d79-47f2-b8cc-764fe86a6156",
   "metadata": {},
   "source": [
    "# Your First Jupyter Notebook\n",
    "\n",
    "### If you are familiar with Jupyter notebooks\n",
    "\n",
    "If you are already very familiar with Jupyter notebooks, and you understand how to run cells, edit cells, and generally use Jupyter, you can skip this notebook, and move on to the next. Click the `x` at the top of the window where you see the filename `0_sandbox.ipynb`, and then open `1-experiment.ipnyb`.\n",
    "\n",
    "## What Are Jupyter Notebooks?\n",
    "\n",
    "This is a [Jupyter](https://jupyter.org/) notebook.  You can learn more about Jupyter notebooks [here](https://jupyter.readthedocs.io), but you only need to know a few things to get started.\n",
    "\n",
    "1.  Jupyter notebooks are made up of _cells_ that can contain prose, executable code, or interactive UI elements.  This cell is a prose cell.\n",
    "2.  Cells can be edited and executed.  To edit a cell, double-click until the frame around it turns green.  To execute a cell (whether you've edited it or not), select it and press Shift+Enter.  This will execute the cell, record its output, and advance to the next cell.  \n",
    "        <figure>\n",
    "            <img src=\"./assets/play-button.png\"  alt='missing' width=\"300\"  >\n",
    "        <figure/>\n",
    "3.  While a cell is executing, it will have an asterisk in the margin, like `In: [*]`.  After a cell completes executing, the asterisk will be replaced with a sequence number.\n",
    "\n",
    "\n",
    "Let's try it out now!  Try executing the next cell"
   ]
  },
  {
   "cell_type": "code",
   "execution_count": 1,
   "id": "3b4dc1f1-8d6e-4869-ade8-cafc22baa817",
   "metadata": {},
   "outputs": [],
   "source": [
    "def print_some_text(entered_text):\n",
    "    print(\"This is what you entered: \\n\" + entered_text)\n",
    "    \n",
    "my_text = \"This cell is for code.  You can execute code by clicking on the play button above or hitting Shift+Enter\"\n",
    "\n",
    "print_some_text(my_text)"
   ]
  },
  {
   "cell_type": "code",
   "execution_count": null,
   "id": "70c9ed5e-60e1-42dd-b9c3-87fcfc79493e",
   "metadata": {},
   "outputs": [],
   "source": [
    "new_text = \"Next, let's see how you would write narrative text or documentation!\"\n",
    "\n",
    "# previously defined functions from another cell are still accessible.\n",
    "print_some_text(new_text)"
   ]
  },
  {
   "cell_type": "markdown",
   "id": "92bc6513-dbe5-4128-9399-d4d3ab9be845",
   "metadata": {},
   "source": [
    "## This is a markdown cell\n",
    "### Chapter 1\n",
    "You can use **markdown** formatting to enter your text.\n",
    "\n",
    "*Double-click* on the cell to modify it!\n",
    "\n",
    "[Markdown reference](https://www.markdownguide.org/basic-syntax/)"
   ]
  },
  {
   "cell_type": "markdown",
   "id": "edaf739c-ff87-457b-914e-5d74428fa8ed",
   "metadata": {},
   "source": [
    "## More Information\n",
    "\n",
    "For more information, click the **Help menu** above\n",
    "\n",
    "<figure>\n",
    "    <img src=\"./assets/help-menu.png\"  alt='missing' width=\"300\"  >\n",
    "<figure/>"
   ]
  },
  {
   "cell_type": "code",
   "execution_count": null,
   "id": "02c9349a-f522-4850-82e6-7af7c8a659c5",
   "metadata": {},
   "outputs": [],
   "source": []
  }
 ],
 "metadata": {
  "kernelspec": {
   "display_name": "Python 3.9",
   "language": "python",
   "name": "python3"
  },
  "language_info": {
   "codemirror_mode": {
    "name": "ipython",
    "version": 3
   },
   "file_extension": ".py",
   "mimetype": "text/x-python",
   "name": "python",
   "nbconvert_exporter": "python",
   "pygments_lexer": "ipython3",
   "version": "3.9.16"
  }
 },
 "nbformat": 4,
 "nbformat_minor": 5
}
