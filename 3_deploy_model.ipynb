{
 "cells": [
  {
   "cell_type": "markdown",
   "metadata": {
    "collapsed": false,
    "jupyter": {
     "outputs_hidden": false
    }
   },
   "source": [
    "# Deploy the Model"
   ]
  },
  {
   "cell_type": "markdown",
   "metadata": {
    "collapsed": false,
    "jupyter": {
     "outputs_hidden": false
    }
   },
   "source": [
    "Now that the model is accessible in storage and saved in a portable\n",
    "`onnx` format, we can very easily use a RHODS model server to deploy it\n",
    "as an API.\n",
    "\n",
    "We'll complete this workflow in the **RHODS Dashboard**.\n",
    "\n",
    "# Create a Model Server\n",
    "\n",
    "RHODS multi-model servers can host several models at once. We'll create\n",
    "a new model server and deploy our model to it.\n",
    "\n",
    "-   In the **Models and model servers** list, click `Add server`.\n",
    "\n",
    "![Add Server](assets/ds-project-model-list-add.png)\n",
    "\n",
    "In the form:\n",
    "\n",
    "-   Fill out the `Model server name`.\n",
    "\n",
    "-   Select `OpenVINO Model Server`.\n",
    "\n",
    "-   Leave other fields (replicas, size, route, auth) as the defaults.\n",
    "\n",
    "![Add Server Form](assets/create-model-server-form.png)\n",
    "\n",
    "# Deploy a Model\n",
    "\n",
    "-   In the **Models and model servers** list, next to your new model\n",
    "    server, click `Deploy model`.\n",
    "\n",
    "![Deploy model\n",
    "button](assets/ds-project-workbench-list-deploy.png)\n",
    "\n",
    "In the form:\n",
    "\n",
    "-   Fill out the `Model Name`.\n",
    "\n",
    "-   Select the server you created, we used the name `Model Server`.\n",
    "\n",
    "-   Select the `Existing data connection` `My Storage`\n",
    "\n",
    "-   Enter the path to your uploaded model, `models/yolov5n/model.onnx`\n",
    "\n",
    "![Deploy Model Form](assets/deploy-model-form.png)\n",
    "\n",
    "-   Wait for the model to deploy and wait until the `Status` shows a\n",
    "    green checkmark.\n",
    "\n",
    "![Model Status](assets/ds-project-model-list-status.png)\n",
    "\n",
    "-   Take note of the API Endpoint name and URL. We'll use this in the\n",
    "    next section.\n",
    "\n",
    "![Model Name](assets/ds-project-model-list-name.png)\n",
    "\n",
    "![Model URL](assets/ds-project-model-list-url.png)\n"
   ]
  },
  {
   "cell_type": "markdown",
   "metadata": {
    "collapsed": false,
    "jupyter": {
     "outputs_hidden": false
    }
   },
   "source": []
  }
 ],
 "metadata": {
  "celltoolbar": "Raw Cell Format",
  "kernelspec": {
   "display_name": "Python 3 (ipykernel)",
   "language": "python",
   "name": "python3"
  },
  "language_info": {
   "codemirror_mode": {
    "name": "ipython",
    "version": 3
   },
   "file_extension": ".py",
   "mimetype": "text/x-python",
   "name": "python",
   "nbconvert_exporter": "python",
   "pygments_lexer": "ipython3",
   "version": "3.10.13"
  }
 },
 "nbformat": 4,
 "nbformat_minor": 4
}
